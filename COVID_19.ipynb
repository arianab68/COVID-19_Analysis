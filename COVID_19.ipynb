{
  "nbformat": 4,
  "nbformat_minor": 0,
  "metadata": {
    "colab": {
      "name": "COVID-19.ipynb",
      "provenance": [],
      "mount_file_id": "1A5TEql8jDl97tHeGFlX3pawMOfWDk6y7",
      "authorship_tag": "ABX9TyNnm/PRICP3/cezo5weEC9M",
      "include_colab_link": true
    },
    "kernelspec": {
      "name": "python3",
      "display_name": "Python 3"
    }
  },
  "cells": [
    {
      "cell_type": "markdown",
      "metadata": {
        "id": "view-in-github",
        "colab_type": "text"
      },
      "source": [
        "<a href=\"https://colab.research.google.com/github/arianab68/COVID-19_Analysis/blob/master/COVID_19.ipynb\" target=\"_parent\"><img src=\"https://colab.research.google.com/assets/colab-badge.svg\" alt=\"Open In Colab\"/></a>"
      ]
    },
    {
      "cell_type": "markdown",
      "metadata": {
        "id": "omcgyYBqJu2j"
      },
      "source": [
        "COVID 19 Data Analysis\r\n",
        "\r\n",
        "Description: Ingest data from the latest New York Times' county-level COVID-19 database at https://github.com/nytimes/covid-19-data/blob/master/us-counties.csv, filter the data for a chosen county in a chosen state, calculate the daily count of new cases and new deaths, print the most recent 30 days' worth of data for the selected county. Perform EDA and show your findings through different plots and visualization techniques. \r\n",
        "\r\n",
        "Task 1 : Environment Set up\r\n",
        "\r\n",
        "Task 2 : Data Collection\r\n",
        "\r\n",
        "Task 3 : Data Wrangling and EDA (Exploratory Data Analysis)\r\n",
        "\r\n",
        "Task4: Understand NY Covid 19 data in last 30 days\r\n",
        "\r\n",
        "Task5: Comparing Covid 19 data with different states\r\n",
        "\r\n",
        "Task6: Conclusion\r\n",
        "\r\n"
      ]
    },
    {
      "cell_type": "markdown",
      "metadata": {
        "id": "6IOJpp7I8Zlb"
      },
      "source": [
        "Collaborated with: MJ and Tashi."
      ]
    },
    {
      "cell_type": "markdown",
      "metadata": {
        "id": "1jeryNd8J3cf"
      },
      "source": [
        "Task 1: Environment Setup"
      ]
    },
    {
      "cell_type": "code",
      "metadata": {
        "id": "1UA6hU1XiYb9"
      },
      "source": [
        "#Importing the necessary libraries for this analysis.\r\n",
        "\r\n",
        "import pandas as pd\r\n",
        "import numpy as np\r\n",
        "import matplotlib.pyplot as plt\r\n",
        "import seaborn as sns\r\n",
        "%matplotlib inline"
      ],
      "execution_count": null,
      "outputs": []
    },
    {
      "cell_type": "markdown",
      "metadata": {
        "id": "-ZGb4sv5J880"
      },
      "source": [
        "Task 2: Data Collection"
      ]
    },
    {
      "cell_type": "code",
      "metadata": {
        "id": "I9gW2x_pip9x"
      },
      "source": [
        "#Collecting the COVID-19 Dataset.\n",
        "\n",
        "data = pd.read_csv('https://github.com/nytimes/covid-19-data/raw/master/us-counties.csv')"
      ],
      "execution_count": null,
      "outputs": []
    },
    {
      "cell_type": "markdown",
      "metadata": {
        "id": "97SLP7dNKACz"
      },
      "source": [
        "Task 3: Data Wrangling and EDA"
      ]
    },
    {
      "cell_type": "code",
      "metadata": {
        "colab": {
          "base_uri": "https://localhost:8080/",
          "height": 204
        },
        "id": "h3zvJlfli6eY",
        "outputId": "dccfc3a2-25f9-4b61-e26d-8fa2e2fa9e92"
      },
      "source": [
        "#Getting a basic idea of what is included within the dataset.\n",
        "\n",
        "data.head()"
      ],
      "execution_count": null,
      "outputs": [
        {
          "output_type": "execute_result",
          "data": {
            "text/html": [
              "<div>\n",
              "<style scoped>\n",
              "    .dataframe tbody tr th:only-of-type {\n",
              "        vertical-align: middle;\n",
              "    }\n",
              "\n",
              "    .dataframe tbody tr th {\n",
              "        vertical-align: top;\n",
              "    }\n",
              "\n",
              "    .dataframe thead th {\n",
              "        text-align: right;\n",
              "    }\n",
              "</style>\n",
              "<table border=\"1\" class=\"dataframe\">\n",
              "  <thead>\n",
              "    <tr style=\"text-align: right;\">\n",
              "      <th></th>\n",
              "      <th>date</th>\n",
              "      <th>county</th>\n",
              "      <th>state</th>\n",
              "      <th>fips</th>\n",
              "      <th>cases</th>\n",
              "      <th>deaths</th>\n",
              "    </tr>\n",
              "  </thead>\n",
              "  <tbody>\n",
              "    <tr>\n",
              "      <th>0</th>\n",
              "      <td>2020-01-21</td>\n",
              "      <td>Snohomish</td>\n",
              "      <td>Washington</td>\n",
              "      <td>53061.0</td>\n",
              "      <td>1</td>\n",
              "      <td>0.0</td>\n",
              "    </tr>\n",
              "    <tr>\n",
              "      <th>1</th>\n",
              "      <td>2020-01-22</td>\n",
              "      <td>Snohomish</td>\n",
              "      <td>Washington</td>\n",
              "      <td>53061.0</td>\n",
              "      <td>1</td>\n",
              "      <td>0.0</td>\n",
              "    </tr>\n",
              "    <tr>\n",
              "      <th>2</th>\n",
              "      <td>2020-01-23</td>\n",
              "      <td>Snohomish</td>\n",
              "      <td>Washington</td>\n",
              "      <td>53061.0</td>\n",
              "      <td>1</td>\n",
              "      <td>0.0</td>\n",
              "    </tr>\n",
              "    <tr>\n",
              "      <th>3</th>\n",
              "      <td>2020-01-24</td>\n",
              "      <td>Cook</td>\n",
              "      <td>Illinois</td>\n",
              "      <td>17031.0</td>\n",
              "      <td>1</td>\n",
              "      <td>0.0</td>\n",
              "    </tr>\n",
              "    <tr>\n",
              "      <th>4</th>\n",
              "      <td>2020-01-24</td>\n",
              "      <td>Snohomish</td>\n",
              "      <td>Washington</td>\n",
              "      <td>53061.0</td>\n",
              "      <td>1</td>\n",
              "      <td>0.0</td>\n",
              "    </tr>\n",
              "  </tbody>\n",
              "</table>\n",
              "</div>"
            ],
            "text/plain": [
              "         date     county       state     fips  cases  deaths\n",
              "0  2020-01-21  Snohomish  Washington  53061.0      1     0.0\n",
              "1  2020-01-22  Snohomish  Washington  53061.0      1     0.0\n",
              "2  2020-01-23  Snohomish  Washington  53061.0      1     0.0\n",
              "3  2020-01-24       Cook    Illinois  17031.0      1     0.0\n",
              "4  2020-01-24  Snohomish  Washington  53061.0      1     0.0"
            ]
          },
          "metadata": {
            "tags": []
          },
          "execution_count": 3
        }
      ]
    },
    {
      "cell_type": "code",
      "metadata": {
        "colab": {
          "base_uri": "https://localhost:8080/",
          "height": 669
        },
        "id": "a6KUbeHAjZ90",
        "outputId": "9b6bc516-f4e1-4b2d-d9fd-43f7113e7a87"
      },
      "source": [
        "#Expanding the dataset preview to 20 columns.\n",
        "\n",
        "data.head(20)"
      ],
      "execution_count": null,
      "outputs": [
        {
          "output_type": "execute_result",
          "data": {
            "text/html": [
              "<div>\n",
              "<style scoped>\n",
              "    .dataframe tbody tr th:only-of-type {\n",
              "        vertical-align: middle;\n",
              "    }\n",
              "\n",
              "    .dataframe tbody tr th {\n",
              "        vertical-align: top;\n",
              "    }\n",
              "\n",
              "    .dataframe thead th {\n",
              "        text-align: right;\n",
              "    }\n",
              "</style>\n",
              "<table border=\"1\" class=\"dataframe\">\n",
              "  <thead>\n",
              "    <tr style=\"text-align: right;\">\n",
              "      <th></th>\n",
              "      <th>date</th>\n",
              "      <th>county</th>\n",
              "      <th>state</th>\n",
              "      <th>fips</th>\n",
              "      <th>cases</th>\n",
              "      <th>deaths</th>\n",
              "    </tr>\n",
              "  </thead>\n",
              "  <tbody>\n",
              "    <tr>\n",
              "      <th>0</th>\n",
              "      <td>2020-01-21</td>\n",
              "      <td>Snohomish</td>\n",
              "      <td>Washington</td>\n",
              "      <td>53061.0</td>\n",
              "      <td>1</td>\n",
              "      <td>0.0</td>\n",
              "    </tr>\n",
              "    <tr>\n",
              "      <th>1</th>\n",
              "      <td>2020-01-22</td>\n",
              "      <td>Snohomish</td>\n",
              "      <td>Washington</td>\n",
              "      <td>53061.0</td>\n",
              "      <td>1</td>\n",
              "      <td>0.0</td>\n",
              "    </tr>\n",
              "    <tr>\n",
              "      <th>2</th>\n",
              "      <td>2020-01-23</td>\n",
              "      <td>Snohomish</td>\n",
              "      <td>Washington</td>\n",
              "      <td>53061.0</td>\n",
              "      <td>1</td>\n",
              "      <td>0.0</td>\n",
              "    </tr>\n",
              "    <tr>\n",
              "      <th>3</th>\n",
              "      <td>2020-01-24</td>\n",
              "      <td>Cook</td>\n",
              "      <td>Illinois</td>\n",
              "      <td>17031.0</td>\n",
              "      <td>1</td>\n",
              "      <td>0.0</td>\n",
              "    </tr>\n",
              "    <tr>\n",
              "      <th>4</th>\n",
              "      <td>2020-01-24</td>\n",
              "      <td>Snohomish</td>\n",
              "      <td>Washington</td>\n",
              "      <td>53061.0</td>\n",
              "      <td>1</td>\n",
              "      <td>0.0</td>\n",
              "    </tr>\n",
              "    <tr>\n",
              "      <th>5</th>\n",
              "      <td>2020-01-25</td>\n",
              "      <td>Orange</td>\n",
              "      <td>California</td>\n",
              "      <td>6059.0</td>\n",
              "      <td>1</td>\n",
              "      <td>0.0</td>\n",
              "    </tr>\n",
              "    <tr>\n",
              "      <th>6</th>\n",
              "      <td>2020-01-25</td>\n",
              "      <td>Cook</td>\n",
              "      <td>Illinois</td>\n",
              "      <td>17031.0</td>\n",
              "      <td>1</td>\n",
              "      <td>0.0</td>\n",
              "    </tr>\n",
              "    <tr>\n",
              "      <th>7</th>\n",
              "      <td>2020-01-25</td>\n",
              "      <td>Snohomish</td>\n",
              "      <td>Washington</td>\n",
              "      <td>53061.0</td>\n",
              "      <td>1</td>\n",
              "      <td>0.0</td>\n",
              "    </tr>\n",
              "    <tr>\n",
              "      <th>8</th>\n",
              "      <td>2020-01-26</td>\n",
              "      <td>Maricopa</td>\n",
              "      <td>Arizona</td>\n",
              "      <td>4013.0</td>\n",
              "      <td>1</td>\n",
              "      <td>0.0</td>\n",
              "    </tr>\n",
              "    <tr>\n",
              "      <th>9</th>\n",
              "      <td>2020-01-26</td>\n",
              "      <td>Los Angeles</td>\n",
              "      <td>California</td>\n",
              "      <td>6037.0</td>\n",
              "      <td>1</td>\n",
              "      <td>0.0</td>\n",
              "    </tr>\n",
              "    <tr>\n",
              "      <th>10</th>\n",
              "      <td>2020-01-26</td>\n",
              "      <td>Orange</td>\n",
              "      <td>California</td>\n",
              "      <td>6059.0</td>\n",
              "      <td>1</td>\n",
              "      <td>0.0</td>\n",
              "    </tr>\n",
              "    <tr>\n",
              "      <th>11</th>\n",
              "      <td>2020-01-26</td>\n",
              "      <td>Cook</td>\n",
              "      <td>Illinois</td>\n",
              "      <td>17031.0</td>\n",
              "      <td>1</td>\n",
              "      <td>0.0</td>\n",
              "    </tr>\n",
              "    <tr>\n",
              "      <th>12</th>\n",
              "      <td>2020-01-26</td>\n",
              "      <td>Snohomish</td>\n",
              "      <td>Washington</td>\n",
              "      <td>53061.0</td>\n",
              "      <td>1</td>\n",
              "      <td>0.0</td>\n",
              "    </tr>\n",
              "    <tr>\n",
              "      <th>13</th>\n",
              "      <td>2020-01-27</td>\n",
              "      <td>Maricopa</td>\n",
              "      <td>Arizona</td>\n",
              "      <td>4013.0</td>\n",
              "      <td>1</td>\n",
              "      <td>0.0</td>\n",
              "    </tr>\n",
              "    <tr>\n",
              "      <th>14</th>\n",
              "      <td>2020-01-27</td>\n",
              "      <td>Los Angeles</td>\n",
              "      <td>California</td>\n",
              "      <td>6037.0</td>\n",
              "      <td>1</td>\n",
              "      <td>0.0</td>\n",
              "    </tr>\n",
              "    <tr>\n",
              "      <th>15</th>\n",
              "      <td>2020-01-27</td>\n",
              "      <td>Orange</td>\n",
              "      <td>California</td>\n",
              "      <td>6059.0</td>\n",
              "      <td>1</td>\n",
              "      <td>0.0</td>\n",
              "    </tr>\n",
              "    <tr>\n",
              "      <th>16</th>\n",
              "      <td>2020-01-27</td>\n",
              "      <td>Cook</td>\n",
              "      <td>Illinois</td>\n",
              "      <td>17031.0</td>\n",
              "      <td>1</td>\n",
              "      <td>0.0</td>\n",
              "    </tr>\n",
              "    <tr>\n",
              "      <th>17</th>\n",
              "      <td>2020-01-27</td>\n",
              "      <td>Snohomish</td>\n",
              "      <td>Washington</td>\n",
              "      <td>53061.0</td>\n",
              "      <td>1</td>\n",
              "      <td>0.0</td>\n",
              "    </tr>\n",
              "    <tr>\n",
              "      <th>18</th>\n",
              "      <td>2020-01-28</td>\n",
              "      <td>Maricopa</td>\n",
              "      <td>Arizona</td>\n",
              "      <td>4013.0</td>\n",
              "      <td>1</td>\n",
              "      <td>0.0</td>\n",
              "    </tr>\n",
              "    <tr>\n",
              "      <th>19</th>\n",
              "      <td>2020-01-28</td>\n",
              "      <td>Los Angeles</td>\n",
              "      <td>California</td>\n",
              "      <td>6037.0</td>\n",
              "      <td>1</td>\n",
              "      <td>0.0</td>\n",
              "    </tr>\n",
              "  </tbody>\n",
              "</table>\n",
              "</div>"
            ],
            "text/plain": [
              "          date       county       state     fips  cases  deaths\n",
              "0   2020-01-21    Snohomish  Washington  53061.0      1     0.0\n",
              "1   2020-01-22    Snohomish  Washington  53061.0      1     0.0\n",
              "2   2020-01-23    Snohomish  Washington  53061.0      1     0.0\n",
              "3   2020-01-24         Cook    Illinois  17031.0      1     0.0\n",
              "4   2020-01-24    Snohomish  Washington  53061.0      1     0.0\n",
              "5   2020-01-25       Orange  California   6059.0      1     0.0\n",
              "6   2020-01-25         Cook    Illinois  17031.0      1     0.0\n",
              "7   2020-01-25    Snohomish  Washington  53061.0      1     0.0\n",
              "8   2020-01-26     Maricopa     Arizona   4013.0      1     0.0\n",
              "9   2020-01-26  Los Angeles  California   6037.0      1     0.0\n",
              "10  2020-01-26       Orange  California   6059.0      1     0.0\n",
              "11  2020-01-26         Cook    Illinois  17031.0      1     0.0\n",
              "12  2020-01-26    Snohomish  Washington  53061.0      1     0.0\n",
              "13  2020-01-27     Maricopa     Arizona   4013.0      1     0.0\n",
              "14  2020-01-27  Los Angeles  California   6037.0      1     0.0\n",
              "15  2020-01-27       Orange  California   6059.0      1     0.0\n",
              "16  2020-01-27         Cook    Illinois  17031.0      1     0.0\n",
              "17  2020-01-27    Snohomish  Washington  53061.0      1     0.0\n",
              "18  2020-01-28     Maricopa     Arizona   4013.0      1     0.0\n",
              "19  2020-01-28  Los Angeles  California   6037.0      1     0.0"
            ]
          },
          "metadata": {
            "tags": []
          },
          "execution_count": 4
        }
      ]
    },
    {
      "cell_type": "code",
      "metadata": {
        "colab": {
          "base_uri": "https://localhost:8080/"
        },
        "id": "ovsgsGyaJOGu",
        "outputId": "879a27e6-975e-4a54-dfa4-d16986862663"
      },
      "source": [
        "#Extracting the null or unknown values within the 'fips' column by using the value counts function.\n",
        "\n",
        "data[data['fips'].isna()]['county'].value_counts()"
      ],
      "execution_count": null,
      "outputs": [
        {
          "output_type": "execute_result",
          "data": {
            "text/plain": [
              "Unknown          7962\n",
              "New York City     324\n",
              "Kansas City       305\n",
              "Joplin            208\n",
              "Name: county, dtype: int64"
            ]
          },
          "metadata": {
            "tags": []
          },
          "execution_count": 5
        }
      ]
    },
    {
      "cell_type": "code",
      "metadata": {
        "id": "GsqY9R_EP43j"
      },
      "source": [
        "#Dropping the 'fips' column because it is not needed in our analysis.\n",
        "\n",
        "data = data.drop(['fips', ],axis=1)"
      ],
      "execution_count": null,
      "outputs": []
    },
    {
      "cell_type": "code",
      "metadata": {
        "colab": {
          "base_uri": "https://localhost:8080/",
          "height": 204
        },
        "id": "MXBLZb9tQ3OQ",
        "outputId": "3aeff4d0-07d7-434e-8095-1d2112e8adcb"
      },
      "source": [
        "#Getting a view of the data without the 'fips' column.\n",
        "\n",
        "data.head()"
      ],
      "execution_count": null,
      "outputs": [
        {
          "output_type": "execute_result",
          "data": {
            "text/html": [
              "<div>\n",
              "<style scoped>\n",
              "    .dataframe tbody tr th:only-of-type {\n",
              "        vertical-align: middle;\n",
              "    }\n",
              "\n",
              "    .dataframe tbody tr th {\n",
              "        vertical-align: top;\n",
              "    }\n",
              "\n",
              "    .dataframe thead th {\n",
              "        text-align: right;\n",
              "    }\n",
              "</style>\n",
              "<table border=\"1\" class=\"dataframe\">\n",
              "  <thead>\n",
              "    <tr style=\"text-align: right;\">\n",
              "      <th></th>\n",
              "      <th>date</th>\n",
              "      <th>county</th>\n",
              "      <th>state</th>\n",
              "      <th>cases</th>\n",
              "      <th>deaths</th>\n",
              "    </tr>\n",
              "  </thead>\n",
              "  <tbody>\n",
              "    <tr>\n",
              "      <th>0</th>\n",
              "      <td>2020-01-21</td>\n",
              "      <td>Snohomish</td>\n",
              "      <td>Washington</td>\n",
              "      <td>1</td>\n",
              "      <td>0.0</td>\n",
              "    </tr>\n",
              "    <tr>\n",
              "      <th>1</th>\n",
              "      <td>2020-01-22</td>\n",
              "      <td>Snohomish</td>\n",
              "      <td>Washington</td>\n",
              "      <td>1</td>\n",
              "      <td>0.0</td>\n",
              "    </tr>\n",
              "    <tr>\n",
              "      <th>2</th>\n",
              "      <td>2020-01-23</td>\n",
              "      <td>Snohomish</td>\n",
              "      <td>Washington</td>\n",
              "      <td>1</td>\n",
              "      <td>0.0</td>\n",
              "    </tr>\n",
              "    <tr>\n",
              "      <th>3</th>\n",
              "      <td>2020-01-24</td>\n",
              "      <td>Cook</td>\n",
              "      <td>Illinois</td>\n",
              "      <td>1</td>\n",
              "      <td>0.0</td>\n",
              "    </tr>\n",
              "    <tr>\n",
              "      <th>4</th>\n",
              "      <td>2020-01-24</td>\n",
              "      <td>Snohomish</td>\n",
              "      <td>Washington</td>\n",
              "      <td>1</td>\n",
              "      <td>0.0</td>\n",
              "    </tr>\n",
              "  </tbody>\n",
              "</table>\n",
              "</div>"
            ],
            "text/plain": [
              "         date     county       state  cases  deaths\n",
              "0  2020-01-21  Snohomish  Washington      1     0.0\n",
              "1  2020-01-22  Snohomish  Washington      1     0.0\n",
              "2  2020-01-23  Snohomish  Washington      1     0.0\n",
              "3  2020-01-24       Cook    Illinois      1     0.0\n",
              "4  2020-01-24  Snohomish  Washington      1     0.0"
            ]
          },
          "metadata": {
            "tags": []
          },
          "execution_count": 7
        }
      ]
    },
    {
      "cell_type": "code",
      "metadata": {
        "colab": {
          "base_uri": "https://localhost:8080/"
        },
        "id": "6H4MFQr2jcgX",
        "outputId": "39dfee25-1592-443a-f9b8-a8b715a2b742"
      },
      "source": [
        "#Getting the generalized information about the dataset.\n",
        "\n",
        "data.info()"
      ],
      "execution_count": null,
      "outputs": [
        {
          "output_type": "stream",
          "text": [
            "<class 'pandas.core.frame.DataFrame'>\n",
            "RangeIndex: 943233 entries, 0 to 943232\n",
            "Data columns (total 5 columns):\n",
            " #   Column  Non-Null Count   Dtype  \n",
            "---  ------  --------------   -----  \n",
            " 0   date    943233 non-null  object \n",
            " 1   county  943233 non-null  object \n",
            " 2   state   943233 non-null  object \n",
            " 3   cases   943233 non-null  int64  \n",
            " 4   deaths  923068 non-null  float64\n",
            "dtypes: float64(1), int64(1), object(3)\n",
            "memory usage: 36.0+ MB\n"
          ],
          "name": "stdout"
        }
      ]
    },
    {
      "cell_type": "code",
      "metadata": {
        "colab": {
          "base_uri": "https://localhost:8080/"
        },
        "id": "6pq2TjdDIytP",
        "outputId": "c988a3b6-df3d-4bba-b80f-c988fa814c92"
      },
      "source": [
        "#Getting the sum of all the null values.\n",
        "\n",
        "data.isna().sum()"
      ],
      "execution_count": null,
      "outputs": [
        {
          "output_type": "execute_result",
          "data": {
            "text/plain": [
              "date          0\n",
              "county        0\n",
              "state         0\n",
              "cases         0\n",
              "deaths    20165\n",
              "dtype: int64"
            ]
          },
          "metadata": {
            "tags": []
          },
          "execution_count": 9
        }
      ]
    },
    {
      "cell_type": "code",
      "metadata": {
        "colab": {
          "base_uri": "https://localhost:8080/"
        },
        "id": "t3OhIQ5CJbM9",
        "outputId": "ac56c310-5997-4fcb-dffc-e43aba11c3e8"
      },
      "source": [
        "#Getting the count of the values within the 'deaths' column.\n",
        "\n",
        "data['deaths'].value_counts()"
      ],
      "execution_count": null,
      "outputs": [
        {
          "output_type": "execute_result",
          "data": {
            "text/plain": [
              "0.0       240126\n",
              "1.0        91494\n",
              "2.0        56442\n",
              "3.0        39260\n",
              "4.0        31373\n",
              "           ...  \n",
              "2928.0         1\n",
              "3426.0         1\n",
              "3427.0         1\n",
              "5977.0         1\n",
              "4390.0         1\n",
              "Name: deaths, Length: 3658, dtype: int64"
            ]
          },
          "metadata": {
            "tags": []
          },
          "execution_count": 10
        }
      ]
    },
    {
      "cell_type": "code",
      "metadata": {
        "colab": {
          "base_uri": "https://localhost:8080/",
          "height": 297
        },
        "id": "Dl62houRjeHs",
        "outputId": "0f7e3596-e2a9-401e-d299-06d0da64c918"
      },
      "source": [
        "#Extracting a generalized description of the dataset.\n",
        "\n",
        "data.describe()"
      ],
      "execution_count": null,
      "outputs": [
        {
          "output_type": "execute_result",
          "data": {
            "text/html": [
              "<div>\n",
              "<style scoped>\n",
              "    .dataframe tbody tr th:only-of-type {\n",
              "        vertical-align: middle;\n",
              "    }\n",
              "\n",
              "    .dataframe tbody tr th {\n",
              "        vertical-align: top;\n",
              "    }\n",
              "\n",
              "    .dataframe thead th {\n",
              "        text-align: right;\n",
              "    }\n",
              "</style>\n",
              "<table border=\"1\" class=\"dataframe\">\n",
              "  <thead>\n",
              "    <tr style=\"text-align: right;\">\n",
              "      <th></th>\n",
              "      <th>cases</th>\n",
              "      <th>deaths</th>\n",
              "    </tr>\n",
              "  </thead>\n",
              "  <tbody>\n",
              "    <tr>\n",
              "      <th>count</th>\n",
              "      <td>9.432330e+05</td>\n",
              "      <td>923068.000000</td>\n",
              "    </tr>\n",
              "    <tr>\n",
              "      <th>mean</th>\n",
              "      <td>2.256154e+03</td>\n",
              "      <td>57.562226</td>\n",
              "    </tr>\n",
              "    <tr>\n",
              "      <th>std</th>\n",
              "      <td>1.185291e+04</td>\n",
              "      <td>462.654322</td>\n",
              "    </tr>\n",
              "    <tr>\n",
              "      <th>min</th>\n",
              "      <td>0.000000e+00</td>\n",
              "      <td>0.000000</td>\n",
              "    </tr>\n",
              "    <tr>\n",
              "      <th>25%</th>\n",
              "      <td>4.100000e+01</td>\n",
              "      <td>0.000000</td>\n",
              "    </tr>\n",
              "    <tr>\n",
              "      <th>50%</th>\n",
              "      <td>2.690000e+02</td>\n",
              "      <td>5.000000</td>\n",
              "    </tr>\n",
              "    <tr>\n",
              "      <th>75%</th>\n",
              "      <td>1.161000e+03</td>\n",
              "      <td>25.000000</td>\n",
              "    </tr>\n",
              "    <tr>\n",
              "      <th>max</th>\n",
              "      <td>1.024592e+06</td>\n",
              "      <td>26104.000000</td>\n",
              "    </tr>\n",
              "  </tbody>\n",
              "</table>\n",
              "</div>"
            ],
            "text/plain": [
              "              cases         deaths\n",
              "count  9.432330e+05  923068.000000\n",
              "mean   2.256154e+03      57.562226\n",
              "std    1.185291e+04     462.654322\n",
              "min    0.000000e+00       0.000000\n",
              "25%    4.100000e+01       0.000000\n",
              "50%    2.690000e+02       5.000000\n",
              "75%    1.161000e+03      25.000000\n",
              "max    1.024592e+06   26104.000000"
            ]
          },
          "metadata": {
            "tags": []
          },
          "execution_count": 11
        }
      ]
    },
    {
      "cell_type": "code",
      "metadata": {
        "colab": {
          "base_uri": "https://localhost:8080/",
          "height": 296
        },
        "id": "socTXWhfjh0P",
        "outputId": "2b3ef40c-ae12-41b5-c4ae-d0d35c8da019"
      },
      "source": [
        "#Creating a seaborn histogram to get a visual picture of the values within the 'deaths' column.\r\n",
        "\r\n",
        "sns.set_style('whitegrid')\r\n",
        "data['deaths'].hist(bins=30)\r\n",
        "plt.xlabel('deaths')"
      ],
      "execution_count": null,
      "outputs": [
        {
          "output_type": "execute_result",
          "data": {
            "text/plain": [
              "Text(0.5, 0, 'deaths')"
            ]
          },
          "metadata": {
            "tags": []
          },
          "execution_count": 12
        },
        {
          "output_type": "display_data",
          "data": {
            "image/png": "[encoded data removed]",
            "text/plain": [
              "<Figure size 432x288 with 1 Axes>"
            ]
          },
          "metadata": {
            "tags": []
          }
        }
      ]
    },
    {
      "cell_type": "code",
      "metadata": {
        "colab": {
          "base_uri": "https://localhost:8080/",
          "height": 458
        },
        "id": "tCAMsKeDj5JZ",
        "outputId": "66a73575-74fb-4336-d734-55f2da77a2e9"
      },
      "source": [
        "#Creating a seaborn jointplot to compare the number of cases for each state.\n",
        "\n",
        "sns.jointplot(x='state',y='cases', data=data)"
      ],
      "execution_count": null,
      "outputs": [
        {
          "output_type": "execute_result",
          "data": {
            "text/plain": [
              "<seaborn.axisgrid.JointGrid at 0x7f9e615454e0>"
            ]
          },
          "metadata": {
            "tags": []
          },
          "execution_count": 13
        },
        {
          "output_type": "display_data",
          "data": {
            "image/png": "[encoded data removed]",
            "text/plain": [
              "<Figure size 432x432 with 3 Axes>"
            ]
          },
          "metadata": {
            "tags": []
          }
        }
      ]
    },
    {
      "cell_type": "markdown",
      "metadata": {
        "id": "ZptAtNr_KFOe"
      },
      "source": [
        "Task 4: Understand NY Covid 19 data in last 30 days"
      ]
    },
    {
      "cell_type": "code",
      "metadata": {
        "id": "yy70XXIuTRGY"
      },
      "source": [
        "#Obtaining the data \n",
        "\n",
        "data = pd.read_csv('http://raw.githubusercontent.com/nytimes/covid-19-data/master/us-counties.csv', index_col='date', parse_dates=True)"
      ],
      "execution_count": null,
      "outputs": []
    },
    {
      "cell_type": "code",
      "metadata": {
        "id": "6QXDI2jNVpu1"
      },
      "source": [
        "#Creating a variable 'bool_mask' to filer New York as the state and New York City as the county\r\n",
        "\r\n",
        "bool_mask = (data['state'] == 'New York') & (data['county']== 'New York City')\r\n",
        "data_ny = data[bool_mask].copy()\r\n"
      ],
      "execution_count": null,
      "outputs": []
    },
    {
      "cell_type": "code",
      "metadata": {
        "id": "kidjbKR3ZlUr"
      },
      "source": [
        "#Filtering the NY data to show the last 30 days\n",
        "\n",
        "data_ny = data_ny.loc['2020-dec-19':]"
      ],
      "execution_count": null,
      "outputs": []
    },
    {
      "cell_type": "code",
      "metadata": {
        "colab": {
          "base_uri": "https://localhost:8080/",
          "height": 1000
        },
        "id": "HU0vjlDmgjKn",
        "outputId": "9dd0e579-db4c-4c89-b1cd-cac08e88f82c"
      },
      "source": [
        "#Getting a view of the New York City county data of COVID-19 cases within the past 30 days.\n",
        "\n",
        "data_ny.head(30)"
      ],
      "execution_count": null,
      "outputs": [
        {
          "output_type": "execute_result",
          "data": {
            "text/html": [
              "<div>\n",
              "<style scoped>\n",
              "    .dataframe tbody tr th:only-of-type {\n",
              "        vertical-align: middle;\n",
              "    }\n",
              "\n",
              "    .dataframe tbody tr th {\n",
              "        vertical-align: top;\n",
              "    }\n",
              "\n",
              "    .dataframe thead th {\n",
              "        text-align: right;\n",
              "    }\n",
              "</style>\n",
              "<table border=\"1\" class=\"dataframe\">\n",
              "  <thead>\n",
              "    <tr style=\"text-align: right;\">\n",
              "      <th></th>\n",
              "      <th>county</th>\n",
              "      <th>state</th>\n",
              "      <th>fips</th>\n",
              "      <th>cases</th>\n",
              "      <th>deaths</th>\n",
              "    </tr>\n",
              "    <tr>\n",
              "      <th>date</th>\n",
              "      <th></th>\n",
              "      <th></th>\n",
              "      <th></th>\n",
              "      <th></th>\n",
              "      <th></th>\n",
              "    </tr>\n",
              "  </thead>\n",
              "  <tbody>\n",
              "    <tr>\n",
              "      <th>2020-12-19</th>\n",
              "      <td>New York City</td>\n",
              "      <td>New York</td>\n",
              "      <td>NaN</td>\n",
              "      <td>381067</td>\n",
              "      <td>24677.0</td>\n",
              "    </tr>\n",
              "    <tr>\n",
              "      <th>2020-12-20</th>\n",
              "      <td>New York City</td>\n",
              "      <td>New York</td>\n",
              "      <td>NaN</td>\n",
              "      <td>383808</td>\n",
              "      <td>24697.0</td>\n",
              "    </tr>\n",
              "    <tr>\n",
              "      <th>2020-12-21</th>\n",
              "      <td>New York City</td>\n",
              "      <td>New York</td>\n",
              "      <td>NaN</td>\n",
              "      <td>387595</td>\n",
              "      <td>24735.0</td>\n",
              "    </tr>\n",
              "    <tr>\n",
              "      <th>2020-12-22</th>\n",
              "      <td>New York City</td>\n",
              "      <td>New York</td>\n",
              "      <td>NaN</td>\n",
              "      <td>391634</td>\n",
              "      <td>24768.0</td>\n",
              "    </tr>\n",
              "    <tr>\n",
              "      <th>2020-12-23</th>\n",
              "      <td>New York City</td>\n",
              "      <td>New York</td>\n",
              "      <td>NaN</td>\n",
              "      <td>395810</td>\n",
              "      <td>24790.0</td>\n",
              "    </tr>\n",
              "    <tr>\n",
              "      <th>2020-12-24</th>\n",
              "      <td>New York City</td>\n",
              "      <td>New York</td>\n",
              "      <td>NaN</td>\n",
              "      <td>401251</td>\n",
              "      <td>24842.0</td>\n",
              "    </tr>\n",
              "    <tr>\n",
              "      <th>2020-12-25</th>\n",
              "      <td>New York City</td>\n",
              "      <td>New York</td>\n",
              "      <td>NaN</td>\n",
              "      <td>405857</td>\n",
              "      <td>24889.0</td>\n",
              "    </tr>\n",
              "    <tr>\n",
              "      <th>2020-12-26</th>\n",
              "      <td>New York City</td>\n",
              "      <td>New York</td>\n",
              "      <td>NaN</td>\n",
              "      <td>410048</td>\n",
              "      <td>24931.0</td>\n",
              "    </tr>\n",
              "    <tr>\n",
              "      <th>2020-12-27</th>\n",
              "      <td>New York City</td>\n",
              "      <td>New York</td>\n",
              "      <td>NaN</td>\n",
              "      <td>413472</td>\n",
              "      <td>24973.0</td>\n",
              "    </tr>\n",
              "    <tr>\n",
              "      <th>2020-12-28</th>\n",
              "      <td>New York City</td>\n",
              "      <td>New York</td>\n",
              "      <td>NaN</td>\n",
              "      <td>416922</td>\n",
              "      <td>25008.0</td>\n",
              "    </tr>\n",
              "    <tr>\n",
              "      <th>2020-12-29</th>\n",
              "      <td>New York City</td>\n",
              "      <td>New York</td>\n",
              "      <td>NaN</td>\n",
              "      <td>422074</td>\n",
              "      <td>25055.0</td>\n",
              "    </tr>\n",
              "    <tr>\n",
              "      <th>2020-12-30</th>\n",
              "      <td>New York City</td>\n",
              "      <td>New York</td>\n",
              "      <td>NaN</td>\n",
              "      <td>426279</td>\n",
              "      <td>25099.0</td>\n",
              "    </tr>\n",
              "    <tr>\n",
              "      <th>2020-12-31</th>\n",
              "      <td>New York City</td>\n",
              "      <td>New York</td>\n",
              "      <td>NaN</td>\n",
              "      <td>430863</td>\n",
              "      <td>25144.0</td>\n",
              "    </tr>\n",
              "    <tr>\n",
              "      <th>2021-01-01</th>\n",
              "      <td>New York City</td>\n",
              "      <td>New York</td>\n",
              "      <td>NaN</td>\n",
              "      <td>436692</td>\n",
              "      <td>25186.0</td>\n",
              "    </tr>\n",
              "    <tr>\n",
              "      <th>2021-01-02</th>\n",
              "      <td>New York City</td>\n",
              "      <td>New York</td>\n",
              "      <td>NaN</td>\n",
              "      <td>442695</td>\n",
              "      <td>25211.0</td>\n",
              "    </tr>\n",
              "    <tr>\n",
              "      <th>2021-01-03</th>\n",
              "      <td>New York City</td>\n",
              "      <td>New York</td>\n",
              "      <td>NaN</td>\n",
              "      <td>446899</td>\n",
              "      <td>25244.0</td>\n",
              "    </tr>\n",
              "    <tr>\n",
              "      <th>2021-01-04</th>\n",
              "      <td>New York City</td>\n",
              "      <td>New York</td>\n",
              "      <td>NaN</td>\n",
              "      <td>450658</td>\n",
              "      <td>25284.0</td>\n",
              "    </tr>\n",
              "    <tr>\n",
              "      <th>2021-01-05</th>\n",
              "      <td>New York City</td>\n",
              "      <td>New York</td>\n",
              "      <td>NaN</td>\n",
              "      <td>455997</td>\n",
              "      <td>25309.0</td>\n",
              "    </tr>\n",
              "    <tr>\n",
              "      <th>2021-01-06</th>\n",
              "      <td>New York City</td>\n",
              "      <td>New York</td>\n",
              "      <td>NaN</td>\n",
              "      <td>460988</td>\n",
              "      <td>25362.0</td>\n",
              "    </tr>\n",
              "    <tr>\n",
              "      <th>2021-01-07</th>\n",
              "      <td>New York City</td>\n",
              "      <td>New York</td>\n",
              "      <td>NaN</td>\n",
              "      <td>467327</td>\n",
              "      <td>25416.0</td>\n",
              "    </tr>\n",
              "    <tr>\n",
              "      <th>2021-01-08</th>\n",
              "      <td>New York City</td>\n",
              "      <td>New York</td>\n",
              "      <td>NaN</td>\n",
              "      <td>474339</td>\n",
              "      <td>25453.0</td>\n",
              "    </tr>\n",
              "    <tr>\n",
              "      <th>2021-01-09</th>\n",
              "      <td>New York City</td>\n",
              "      <td>New York</td>\n",
              "      <td>NaN</td>\n",
              "      <td>481279</td>\n",
              "      <td>25505.0</td>\n",
              "    </tr>\n",
              "    <tr>\n",
              "      <th>2021-01-10</th>\n",
              "      <td>New York City</td>\n",
              "      <td>New York</td>\n",
              "      <td>NaN</td>\n",
              "      <td>487551</td>\n",
              "      <td>25562.0</td>\n",
              "    </tr>\n",
              "    <tr>\n",
              "      <th>2021-01-11</th>\n",
              "      <td>New York City</td>\n",
              "      <td>New York</td>\n",
              "      <td>NaN</td>\n",
              "      <td>493306</td>\n",
              "      <td>25635.0</td>\n",
              "    </tr>\n",
              "    <tr>\n",
              "      <th>2021-01-12</th>\n",
              "      <td>New York City</td>\n",
              "      <td>New York</td>\n",
              "      <td>NaN</td>\n",
              "      <td>498877</td>\n",
              "      <td>25698.0</td>\n",
              "    </tr>\n",
              "    <tr>\n",
              "      <th>2021-01-13</th>\n",
              "      <td>New York City</td>\n",
              "      <td>New York</td>\n",
              "      <td>NaN</td>\n",
              "      <td>504826</td>\n",
              "      <td>25741.0</td>\n",
              "    </tr>\n",
              "    <tr>\n",
              "      <th>2021-01-14</th>\n",
              "      <td>New York City</td>\n",
              "      <td>New York</td>\n",
              "      <td>NaN</td>\n",
              "      <td>510711</td>\n",
              "      <td>25834.0</td>\n",
              "    </tr>\n",
              "    <tr>\n",
              "      <th>2021-01-15</th>\n",
              "      <td>New York City</td>\n",
              "      <td>New York</td>\n",
              "      <td>NaN</td>\n",
              "      <td>517963</td>\n",
              "      <td>25909.0</td>\n",
              "    </tr>\n",
              "    <tr>\n",
              "      <th>2021-01-16</th>\n",
              "      <td>New York City</td>\n",
              "      <td>New York</td>\n",
              "      <td>NaN</td>\n",
              "      <td>524231</td>\n",
              "      <td>25970.0</td>\n",
              "    </tr>\n",
              "    <tr>\n",
              "      <th>2021-01-17</th>\n",
              "      <td>New York City</td>\n",
              "      <td>New York</td>\n",
              "      <td>NaN</td>\n",
              "      <td>529834</td>\n",
              "      <td>26036.0</td>\n",
              "    </tr>\n",
              "  </tbody>\n",
              "</table>\n",
              "</div>"
            ],
            "text/plain": [
              "                   county     state  fips   cases   deaths\n",
              "date                                                      \n",
              "2020-12-19  New York City  New York   NaN  381067  24677.0\n",
              "2020-12-20  New York City  New York   NaN  383808  24697.0\n",
              "2020-12-21  New York City  New York   NaN  387595  24735.0\n",
              "2020-12-22  New York City  New York   NaN  391634  24768.0\n",
              "2020-12-23  New York City  New York   NaN  395810  24790.0\n",
              "2020-12-24  New York City  New York   NaN  401251  24842.0\n",
              "2020-12-25  New York City  New York   NaN  405857  24889.0\n",
              "2020-12-26  New York City  New York   NaN  410048  24931.0\n",
              "2020-12-27  New York City  New York   NaN  413472  24973.0\n",
              "2020-12-28  New York City  New York   NaN  416922  25008.0\n",
              "2020-12-29  New York City  New York   NaN  422074  25055.0\n",
              "2020-12-30  New York City  New York   NaN  426279  25099.0\n",
              "2020-12-31  New York City  New York   NaN  430863  25144.0\n",
              "2021-01-01  New York City  New York   NaN  436692  25186.0\n",
              "2021-01-02  New York City  New York   NaN  442695  25211.0\n",
              "2021-01-03  New York City  New York   NaN  446899  25244.0\n",
              "2021-01-04  New York City  New York   NaN  450658  25284.0\n",
              "2021-01-05  New York City  New York   NaN  455997  25309.0\n",
              "2021-01-06  New York City  New York   NaN  460988  25362.0\n",
              "2021-01-07  New York City  New York   NaN  467327  25416.0\n",
              "2021-01-08  New York City  New York   NaN  474339  25453.0\n",
              "2021-01-09  New York City  New York   NaN  481279  25505.0\n",
              "2021-01-10  New York City  New York   NaN  487551  25562.0\n",
              "2021-01-11  New York City  New York   NaN  493306  25635.0\n",
              "2021-01-12  New York City  New York   NaN  498877  25698.0\n",
              "2021-01-13  New York City  New York   NaN  504826  25741.0\n",
              "2021-01-14  New York City  New York   NaN  510711  25834.0\n",
              "2021-01-15  New York City  New York   NaN  517963  25909.0\n",
              "2021-01-16  New York City  New York   NaN  524231  25970.0\n",
              "2021-01-17  New York City  New York   NaN  529834  26036.0"
            ]
          },
          "metadata": {
            "tags": []
          },
          "execution_count": 17
        }
      ]
    },
    {
      "cell_type": "code",
      "metadata": {
        "id": "4-q_JIeNkjgd"
      },
      "source": [
        "#Dropping the 'fips' column in the filtered New York dataset.\n",
        "\n",
        "data_ny = data_ny.drop(['fips', ],axis=1)"
      ],
      "execution_count": null,
      "outputs": []
    },
    {
      "cell_type": "code",
      "metadata": {
        "colab": {
          "base_uri": "https://localhost:8080/",
          "height": 1000
        },
        "id": "qfjHGsVPknA3",
        "outputId": "7925f608-938f-4fd0-9f41-91e2bed8147d"
      },
      "source": [
        "#Getting a view of the New York dataset without the 'fips' column.\n",
        "\n",
        "data_ny.head(30)"
      ],
      "execution_count": null,
      "outputs": [
        {
          "output_type": "execute_result",
          "data": {
            "text/html": [
              "<div>\n",
              "<style scoped>\n",
              "    .dataframe tbody tr th:only-of-type {\n",
              "        vertical-align: middle;\n",
              "    }\n",
              "\n",
              "    .dataframe tbody tr th {\n",
              "        vertical-align: top;\n",
              "    }\n",
              "\n",
              "    .dataframe thead th {\n",
              "        text-align: right;\n",
              "    }\n",
              "</style>\n",
              "<table border=\"1\" class=\"dataframe\">\n",
              "  <thead>\n",
              "    <tr style=\"text-align: right;\">\n",
              "      <th></th>\n",
              "      <th>county</th>\n",
              "      <th>state</th>\n",
              "      <th>cases</th>\n",
              "      <th>deaths</th>\n",
              "    </tr>\n",
              "    <tr>\n",
              "      <th>date</th>\n",
              "      <th></th>\n",
              "      <th></th>\n",
              "      <th></th>\n",
              "      <th></th>\n",
              "    </tr>\n",
              "  </thead>\n",
              "  <tbody>\n",
              "    <tr>\n",
              "      <th>2020-12-19</th>\n",
              "      <td>New York City</td>\n",
              "      <td>New York</td>\n",
              "      <td>381067</td>\n",
              "      <td>24677.0</td>\n",
              "    </tr>\n",
              "    <tr>\n",
              "      <th>2020-12-20</th>\n",
              "      <td>New York City</td>\n",
              "      <td>New York</td>\n",
              "      <td>383808</td>\n",
              "      <td>24697.0</td>\n",
              "    </tr>\n",
              "    <tr>\n",
              "      <th>2020-12-21</th>\n",
              "      <td>New York City</td>\n",
              "      <td>New York</td>\n",
              "      <td>387595</td>\n",
              "      <td>24735.0</td>\n",
              "    </tr>\n",
              "    <tr>\n",
              "      <th>2020-12-22</th>\n",
              "      <td>New York City</td>\n",
              "      <td>New York</td>\n",
              "      <td>391634</td>\n",
              "      <td>24768.0</td>\n",
              "    </tr>\n",
              "    <tr>\n",
              "      <th>2020-12-23</th>\n",
              "      <td>New York City</td>\n",
              "      <td>New York</td>\n",
              "      <td>395810</td>\n",
              "      <td>24790.0</td>\n",
              "    </tr>\n",
              "    <tr>\n",
              "      <th>2020-12-24</th>\n",
              "      <td>New York City</td>\n",
              "      <td>New York</td>\n",
              "      <td>401251</td>\n",
              "      <td>24842.0</td>\n",
              "    </tr>\n",
              "    <tr>\n",
              "      <th>2020-12-25</th>\n",
              "      <td>New York City</td>\n",
              "      <td>New York</td>\n",
              "      <td>405857</td>\n",
              "      <td>24889.0</td>\n",
              "    </tr>\n",
              "    <tr>\n",
              "      <th>2020-12-26</th>\n",
              "      <td>New York City</td>\n",
              "      <td>New York</td>\n",
              "      <td>410048</td>\n",
              "      <td>24931.0</td>\n",
              "    </tr>\n",
              "    <tr>\n",
              "      <th>2020-12-27</th>\n",
              "      <td>New York City</td>\n",
              "      <td>New York</td>\n",
              "      <td>413472</td>\n",
              "      <td>24973.0</td>\n",
              "    </tr>\n",
              "    <tr>\n",
              "      <th>2020-12-28</th>\n",
              "      <td>New York City</td>\n",
              "      <td>New York</td>\n",
              "      <td>416922</td>\n",
              "      <td>25008.0</td>\n",
              "    </tr>\n",
              "    <tr>\n",
              "      <th>2020-12-29</th>\n",
              "      <td>New York City</td>\n",
              "      <td>New York</td>\n",
              "      <td>422074</td>\n",
              "      <td>25055.0</td>\n",
              "    </tr>\n",
              "    <tr>\n",
              "      <th>2020-12-30</th>\n",
              "      <td>New York City</td>\n",
              "      <td>New York</td>\n",
              "      <td>426279</td>\n",
              "      <td>25099.0</td>\n",
              "    </tr>\n",
              "    <tr>\n",
              "      <th>2020-12-31</th>\n",
              "      <td>New York City</td>\n",
              "      <td>New York</td>\n",
              "      <td>430863</td>\n",
              "      <td>25144.0</td>\n",
              "    </tr>\n",
              "    <tr>\n",
              "      <th>2021-01-01</th>\n",
              "      <td>New York City</td>\n",
              "      <td>New York</td>\n",
              "      <td>436692</td>\n",
              "      <td>25186.0</td>\n",
              "    </tr>\n",
              "    <tr>\n",
              "      <th>2021-01-02</th>\n",
              "      <td>New York City</td>\n",
              "      <td>New York</td>\n",
              "      <td>442695</td>\n",
              "      <td>25211.0</td>\n",
              "    </tr>\n",
              "    <tr>\n",
              "      <th>2021-01-03</th>\n",
              "      <td>New York City</td>\n",
              "      <td>New York</td>\n",
              "      <td>446899</td>\n",
              "      <td>25244.0</td>\n",
              "    </tr>\n",
              "    <tr>\n",
              "      <th>2021-01-04</th>\n",
              "      <td>New York City</td>\n",
              "      <td>New York</td>\n",
              "      <td>450658</td>\n",
              "      <td>25284.0</td>\n",
              "    </tr>\n",
              "    <tr>\n",
              "      <th>2021-01-05</th>\n",
              "      <td>New York City</td>\n",
              "      <td>New York</td>\n",
              "      <td>455997</td>\n",
              "      <td>25309.0</td>\n",
              "    </tr>\n",
              "    <tr>\n",
              "      <th>2021-01-06</th>\n",
              "      <td>New York City</td>\n",
              "      <td>New York</td>\n",
              "      <td>460988</td>\n",
              "      <td>25362.0</td>\n",
              "    </tr>\n",
              "    <tr>\n",
              "      <th>2021-01-07</th>\n",
              "      <td>New York City</td>\n",
              "      <td>New York</td>\n",
              "      <td>467327</td>\n",
              "      <td>25416.0</td>\n",
              "    </tr>\n",
              "    <tr>\n",
              "      <th>2021-01-08</th>\n",
              "      <td>New York City</td>\n",
              "      <td>New York</td>\n",
              "      <td>474339</td>\n",
              "      <td>25453.0</td>\n",
              "    </tr>\n",
              "    <tr>\n",
              "      <th>2021-01-09</th>\n",
              "      <td>New York City</td>\n",
              "      <td>New York</td>\n",
              "      <td>481279</td>\n",
              "      <td>25505.0</td>\n",
              "    </tr>\n",
              "    <tr>\n",
              "      <th>2021-01-10</th>\n",
              "      <td>New York City</td>\n",
              "      <td>New York</td>\n",
              "      <td>487551</td>\n",
              "      <td>25562.0</td>\n",
              "    </tr>\n",
              "    <tr>\n",
              "      <th>2021-01-11</th>\n",
              "      <td>New York City</td>\n",
              "      <td>New York</td>\n",
              "      <td>493306</td>\n",
              "      <td>25635.0</td>\n",
              "    </tr>\n",
              "    <tr>\n",
              "      <th>2021-01-12</th>\n",
              "      <td>New York City</td>\n",
              "      <td>New York</td>\n",
              "      <td>498877</td>\n",
              "      <td>25698.0</td>\n",
              "    </tr>\n",
              "    <tr>\n",
              "      <th>2021-01-13</th>\n",
              "      <td>New York City</td>\n",
              "      <td>New York</td>\n",
              "      <td>504826</td>\n",
              "      <td>25741.0</td>\n",
              "    </tr>\n",
              "    <tr>\n",
              "      <th>2021-01-14</th>\n",
              "      <td>New York City</td>\n",
              "      <td>New York</td>\n",
              "      <td>510711</td>\n",
              "      <td>25834.0</td>\n",
              "    </tr>\n",
              "    <tr>\n",
              "      <th>2021-01-15</th>\n",
              "      <td>New York City</td>\n",
              "      <td>New York</td>\n",
              "      <td>517963</td>\n",
              "      <td>25909.0</td>\n",
              "    </tr>\n",
              "    <tr>\n",
              "      <th>2021-01-16</th>\n",
              "      <td>New York City</td>\n",
              "      <td>New York</td>\n",
              "      <td>524231</td>\n",
              "      <td>25970.0</td>\n",
              "    </tr>\n",
              "    <tr>\n",
              "      <th>2021-01-17</th>\n",
              "      <td>New York City</td>\n",
              "      <td>New York</td>\n",
              "      <td>529834</td>\n",
              "      <td>26036.0</td>\n",
              "    </tr>\n",
              "  </tbody>\n",
              "</table>\n",
              "</div>"
            ],
            "text/plain": [
              "                   county     state   cases   deaths\n",
              "date                                                \n",
              "2020-12-19  New York City  New York  381067  24677.0\n",
              "2020-12-20  New York City  New York  383808  24697.0\n",
              "2020-12-21  New York City  New York  387595  24735.0\n",
              "2020-12-22  New York City  New York  391634  24768.0\n",
              "2020-12-23  New York City  New York  395810  24790.0\n",
              "2020-12-24  New York City  New York  401251  24842.0\n",
              "2020-12-25  New York City  New York  405857  24889.0\n",
              "2020-12-26  New York City  New York  410048  24931.0\n",
              "2020-12-27  New York City  New York  413472  24973.0\n",
              "2020-12-28  New York City  New York  416922  25008.0\n",
              "2020-12-29  New York City  New York  422074  25055.0\n",
              "2020-12-30  New York City  New York  426279  25099.0\n",
              "2020-12-31  New York City  New York  430863  25144.0\n",
              "2021-01-01  New York City  New York  436692  25186.0\n",
              "2021-01-02  New York City  New York  442695  25211.0\n",
              "2021-01-03  New York City  New York  446899  25244.0\n",
              "2021-01-04  New York City  New York  450658  25284.0\n",
              "2021-01-05  New York City  New York  455997  25309.0\n",
              "2021-01-06  New York City  New York  460988  25362.0\n",
              "2021-01-07  New York City  New York  467327  25416.0\n",
              "2021-01-08  New York City  New York  474339  25453.0\n",
              "2021-01-09  New York City  New York  481279  25505.0\n",
              "2021-01-10  New York City  New York  487551  25562.0\n",
              "2021-01-11  New York City  New York  493306  25635.0\n",
              "2021-01-12  New York City  New York  498877  25698.0\n",
              "2021-01-13  New York City  New York  504826  25741.0\n",
              "2021-01-14  New York City  New York  510711  25834.0\n",
              "2021-01-15  New York City  New York  517963  25909.0\n",
              "2021-01-16  New York City  New York  524231  25970.0\n",
              "2021-01-17  New York City  New York  529834  26036.0"
            ]
          },
          "metadata": {
            "tags": []
          },
          "execution_count": 19
        }
      ]
    },
    {
      "cell_type": "code",
      "metadata": {
        "colab": {
          "base_uri": "https://localhost:8080/",
          "height": 1000
        },
        "id": "pEbXl02AdDic",
        "outputId": "b7d1738f-82f4-46f8-de0f-027c1f73e5d6"
      },
      "source": [
        "#Using these formulas to calculate the amount of new cases and new deaths within New York City within the past 30 days.\r\n",
        "\r\n",
        "data_ny['new_cases'] = data_ny['cases'] - data_ny['cases'].shift(1).fillna(0)\r\n",
        "data_ny['new_deaths'] = data_ny['deaths'] - data_ny['deaths'].shift(1).fillna(0)\r\n",
        "data_ny.head(30)"
      ],
      "execution_count": null,
      "outputs": [
        {
          "output_type": "execute_result",
          "data": {
            "text/html": [
              "<div>\n",
              "<style scoped>\n",
              "    .dataframe tbody tr th:only-of-type {\n",
              "        vertical-align: middle;\n",
              "    }\n",
              "\n",
              "    .dataframe tbody tr th {\n",
              "        vertical-align: top;\n",
              "    }\n",
              "\n",
              "    .dataframe thead th {\n",
              "        text-align: right;\n",
              "    }\n",
              "</style>\n",
              "<table border=\"1\" class=\"dataframe\">\n",
              "  <thead>\n",
              "    <tr style=\"text-align: right;\">\n",
              "      <th></th>\n",
              "      <th>county</th>\n",
              "      <th>state</th>\n",
              "      <th>cases</th>\n",
              "      <th>deaths</th>\n",
              "      <th>new_cases</th>\n",
              "      <th>new_deaths</th>\n",
              "    </tr>\n",
              "    <tr>\n",
              "      <th>date</th>\n",
              "      <th></th>\n",
              "      <th></th>\n",
              "      <th></th>\n",
              "      <th></th>\n",
              "      <th></th>\n",
              "      <th></th>\n",
              "    </tr>\n",
              "  </thead>\n",
              "  <tbody>\n",
              "    <tr>\n",
              "      <th>2020-12-19</th>\n",
              "      <td>New York City</td>\n",
              "      <td>New York</td>\n",
              "      <td>381067</td>\n",
              "      <td>24677.0</td>\n",
              "      <td>381067.0</td>\n",
              "      <td>24677.0</td>\n",
              "    </tr>\n",
              "    <tr>\n",
              "      <th>2020-12-20</th>\n",
              "      <td>New York City</td>\n",
              "      <td>New York</td>\n",
              "      <td>383808</td>\n",
              "      <td>24697.0</td>\n",
              "      <td>2741.0</td>\n",
              "      <td>20.0</td>\n",
              "    </tr>\n",
              "    <tr>\n",
              "      <th>2020-12-21</th>\n",
              "      <td>New York City</td>\n",
              "      <td>New York</td>\n",
              "      <td>387595</td>\n",
              "      <td>24735.0</td>\n",
              "      <td>3787.0</td>\n",
              "      <td>38.0</td>\n",
              "    </tr>\n",
              "    <tr>\n",
              "      <th>2020-12-22</th>\n",
              "      <td>New York City</td>\n",
              "      <td>New York</td>\n",
              "      <td>391634</td>\n",
              "      <td>24768.0</td>\n",
              "      <td>4039.0</td>\n",
              "      <td>33.0</td>\n",
              "    </tr>\n",
              "    <tr>\n",
              "      <th>2020-12-23</th>\n",
              "      <td>New York City</td>\n",
              "      <td>New York</td>\n",
              "      <td>395810</td>\n",
              "      <td>24790.0</td>\n",
              "      <td>4176.0</td>\n",
              "      <td>22.0</td>\n",
              "    </tr>\n",
              "    <tr>\n",
              "      <th>2020-12-24</th>\n",
              "      <td>New York City</td>\n",
              "      <td>New York</td>\n",
              "      <td>401251</td>\n",
              "      <td>24842.0</td>\n",
              "      <td>5441.0</td>\n",
              "      <td>52.0</td>\n",
              "    </tr>\n",
              "    <tr>\n",
              "      <th>2020-12-25</th>\n",
              "      <td>New York City</td>\n",
              "      <td>New York</td>\n",
              "      <td>405857</td>\n",
              "      <td>24889.0</td>\n",
              "      <td>4606.0</td>\n",
              "      <td>47.0</td>\n",
              "    </tr>\n",
              "    <tr>\n",
              "      <th>2020-12-26</th>\n",
              "      <td>New York City</td>\n",
              "      <td>New York</td>\n",
              "      <td>410048</td>\n",
              "      <td>24931.0</td>\n",
              "      <td>4191.0</td>\n",
              "      <td>42.0</td>\n",
              "    </tr>\n",
              "    <tr>\n",
              "      <th>2020-12-27</th>\n",
              "      <td>New York City</td>\n",
              "      <td>New York</td>\n",
              "      <td>413472</td>\n",
              "      <td>24973.0</td>\n",
              "      <td>3424.0</td>\n",
              "      <td>42.0</td>\n",
              "    </tr>\n",
              "    <tr>\n",
              "      <th>2020-12-28</th>\n",
              "      <td>New York City</td>\n",
              "      <td>New York</td>\n",
              "      <td>416922</td>\n",
              "      <td>25008.0</td>\n",
              "      <td>3450.0</td>\n",
              "      <td>35.0</td>\n",
              "    </tr>\n",
              "    <tr>\n",
              "      <th>2020-12-29</th>\n",
              "      <td>New York City</td>\n",
              "      <td>New York</td>\n",
              "      <td>422074</td>\n",
              "      <td>25055.0</td>\n",
              "      <td>5152.0</td>\n",
              "      <td>47.0</td>\n",
              "    </tr>\n",
              "    <tr>\n",
              "      <th>2020-12-30</th>\n",
              "      <td>New York City</td>\n",
              "      <td>New York</td>\n",
              "      <td>426279</td>\n",
              "      <td>25099.0</td>\n",
              "      <td>4205.0</td>\n",
              "      <td>44.0</td>\n",
              "    </tr>\n",
              "    <tr>\n",
              "      <th>2020-12-31</th>\n",
              "      <td>New York City</td>\n",
              "      <td>New York</td>\n",
              "      <td>430863</td>\n",
              "      <td>25144.0</td>\n",
              "      <td>4584.0</td>\n",
              "      <td>45.0</td>\n",
              "    </tr>\n",
              "    <tr>\n",
              "      <th>2021-01-01</th>\n",
              "      <td>New York City</td>\n",
              "      <td>New York</td>\n",
              "      <td>436692</td>\n",
              "      <td>25186.0</td>\n",
              "      <td>5829.0</td>\n",
              "      <td>42.0</td>\n",
              "    </tr>\n",
              "    <tr>\n",
              "      <th>2021-01-02</th>\n",
              "      <td>New York City</td>\n",
              "      <td>New York</td>\n",
              "      <td>442695</td>\n",
              "      <td>25211.0</td>\n",
              "      <td>6003.0</td>\n",
              "      <td>25.0</td>\n",
              "    </tr>\n",
              "    <tr>\n",
              "      <th>2021-01-03</th>\n",
              "      <td>New York City</td>\n",
              "      <td>New York</td>\n",
              "      <td>446899</td>\n",
              "      <td>25244.0</td>\n",
              "      <td>4204.0</td>\n",
              "      <td>33.0</td>\n",
              "    </tr>\n",
              "    <tr>\n",
              "      <th>2021-01-04</th>\n",
              "      <td>New York City</td>\n",
              "      <td>New York</td>\n",
              "      <td>450658</td>\n",
              "      <td>25284.0</td>\n",
              "      <td>3759.0</td>\n",
              "      <td>40.0</td>\n",
              "    </tr>\n",
              "    <tr>\n",
              "      <th>2021-01-05</th>\n",
              "      <td>New York City</td>\n",
              "      <td>New York</td>\n",
              "      <td>455997</td>\n",
              "      <td>25309.0</td>\n",
              "      <td>5339.0</td>\n",
              "      <td>25.0</td>\n",
              "    </tr>\n",
              "    <tr>\n",
              "      <th>2021-01-06</th>\n",
              "      <td>New York City</td>\n",
              "      <td>New York</td>\n",
              "      <td>460988</td>\n",
              "      <td>25362.0</td>\n",
              "      <td>4991.0</td>\n",
              "      <td>53.0</td>\n",
              "    </tr>\n",
              "    <tr>\n",
              "      <th>2021-01-07</th>\n",
              "      <td>New York City</td>\n",
              "      <td>New York</td>\n",
              "      <td>467327</td>\n",
              "      <td>25416.0</td>\n",
              "      <td>6339.0</td>\n",
              "      <td>54.0</td>\n",
              "    </tr>\n",
              "    <tr>\n",
              "      <th>2021-01-08</th>\n",
              "      <td>New York City</td>\n",
              "      <td>New York</td>\n",
              "      <td>474339</td>\n",
              "      <td>25453.0</td>\n",
              "      <td>7012.0</td>\n",
              "      <td>37.0</td>\n",
              "    </tr>\n",
              "    <tr>\n",
              "      <th>2021-01-09</th>\n",
              "      <td>New York City</td>\n",
              "      <td>New York</td>\n",
              "      <td>481279</td>\n",
              "      <td>25505.0</td>\n",
              "      <td>6940.0</td>\n",
              "      <td>52.0</td>\n",
              "    </tr>\n",
              "    <tr>\n",
              "      <th>2021-01-10</th>\n",
              "      <td>New York City</td>\n",
              "      <td>New York</td>\n",
              "      <td>487551</td>\n",
              "      <td>25562.0</td>\n",
              "      <td>6272.0</td>\n",
              "      <td>57.0</td>\n",
              "    </tr>\n",
              "    <tr>\n",
              "      <th>2021-01-11</th>\n",
              "      <td>New York City</td>\n",
              "      <td>New York</td>\n",
              "      <td>493306</td>\n",
              "      <td>25635.0</td>\n",
              "      <td>5755.0</td>\n",
              "      <td>73.0</td>\n",
              "    </tr>\n",
              "    <tr>\n",
              "      <th>2021-01-12</th>\n",
              "      <td>New York City</td>\n",
              "      <td>New York</td>\n",
              "      <td>498877</td>\n",
              "      <td>25698.0</td>\n",
              "      <td>5571.0</td>\n",
              "      <td>63.0</td>\n",
              "    </tr>\n",
              "    <tr>\n",
              "      <th>2021-01-13</th>\n",
              "      <td>New York City</td>\n",
              "      <td>New York</td>\n",
              "      <td>504826</td>\n",
              "      <td>25741.0</td>\n",
              "      <td>5949.0</td>\n",
              "      <td>43.0</td>\n",
              "    </tr>\n",
              "    <tr>\n",
              "      <th>2021-01-14</th>\n",
              "      <td>New York City</td>\n",
              "      <td>New York</td>\n",
              "      <td>510711</td>\n",
              "      <td>25834.0</td>\n",
              "      <td>5885.0</td>\n",
              "      <td>93.0</td>\n",
              "    </tr>\n",
              "    <tr>\n",
              "      <th>2021-01-15</th>\n",
              "      <td>New York City</td>\n",
              "      <td>New York</td>\n",
              "      <td>517963</td>\n",
              "      <td>25909.0</td>\n",
              "      <td>7252.0</td>\n",
              "      <td>75.0</td>\n",
              "    </tr>\n",
              "    <tr>\n",
              "      <th>2021-01-16</th>\n",
              "      <td>New York City</td>\n",
              "      <td>New York</td>\n",
              "      <td>524231</td>\n",
              "      <td>25970.0</td>\n",
              "      <td>6268.0</td>\n",
              "      <td>61.0</td>\n",
              "    </tr>\n",
              "    <tr>\n",
              "      <th>2021-01-17</th>\n",
              "      <td>New York City</td>\n",
              "      <td>New York</td>\n",
              "      <td>529834</td>\n",
              "      <td>26036.0</td>\n",
              "      <td>5603.0</td>\n",
              "      <td>66.0</td>\n",
              "    </tr>\n",
              "  </tbody>\n",
              "</table>\n",
              "</div>"
            ],
            "text/plain": [
              "                   county     state   cases   deaths  new_cases  new_deaths\n",
              "date                                                                       \n",
              "2020-12-19  New York City  New York  381067  24677.0   381067.0     24677.0\n",
              "2020-12-20  New York City  New York  383808  24697.0     2741.0        20.0\n",
              "2020-12-21  New York City  New York  387595  24735.0     3787.0        38.0\n",
              "2020-12-22  New York City  New York  391634  24768.0     4039.0        33.0\n",
              "2020-12-23  New York City  New York  395810  24790.0     4176.0        22.0\n",
              "2020-12-24  New York City  New York  401251  24842.0     5441.0        52.0\n",
              "2020-12-25  New York City  New York  405857  24889.0     4606.0        47.0\n",
              "2020-12-26  New York City  New York  410048  24931.0     4191.0        42.0\n",
              "2020-12-27  New York City  New York  413472  24973.0     3424.0        42.0\n",
              "2020-12-28  New York City  New York  416922  25008.0     3450.0        35.0\n",
              "2020-12-29  New York City  New York  422074  25055.0     5152.0        47.0\n",
              "2020-12-30  New York City  New York  426279  25099.0     4205.0        44.0\n",
              "2020-12-31  New York City  New York  430863  25144.0     4584.0        45.0\n",
              "2021-01-01  New York City  New York  436692  25186.0     5829.0        42.0\n",
              "2021-01-02  New York City  New York  442695  25211.0     6003.0        25.0\n",
              "2021-01-03  New York City  New York  446899  25244.0     4204.0        33.0\n",
              "2021-01-04  New York City  New York  450658  25284.0     3759.0        40.0\n",
              "2021-01-05  New York City  New York  455997  25309.0     5339.0        25.0\n",
              "2021-01-06  New York City  New York  460988  25362.0     4991.0        53.0\n",
              "2021-01-07  New York City  New York  467327  25416.0     6339.0        54.0\n",
              "2021-01-08  New York City  New York  474339  25453.0     7012.0        37.0\n",
              "2021-01-09  New York City  New York  481279  25505.0     6940.0        52.0\n",
              "2021-01-10  New York City  New York  487551  25562.0     6272.0        57.0\n",
              "2021-01-11  New York City  New York  493306  25635.0     5755.0        73.0\n",
              "2021-01-12  New York City  New York  498877  25698.0     5571.0        63.0\n",
              "2021-01-13  New York City  New York  504826  25741.0     5949.0        43.0\n",
              "2021-01-14  New York City  New York  510711  25834.0     5885.0        93.0\n",
              "2021-01-15  New York City  New York  517963  25909.0     7252.0        75.0\n",
              "2021-01-16  New York City  New York  524231  25970.0     6268.0        61.0\n",
              "2021-01-17  New York City  New York  529834  26036.0     5603.0        66.0"
            ]
          },
          "metadata": {
            "tags": []
          },
          "execution_count": 20
        }
      ]
    },
    {
      "cell_type": "code",
      "metadata": {
        "colab": {
          "base_uri": "https://localhost:8080/",
          "height": 1000
        },
        "id": "qCO8R9_nebWY",
        "outputId": "68318217-712b-4016-e963-56af5b066253"
      },
      "source": [
        "#Plotting a lingplot showing the amount of new cases each day in New York within the past 30 days.\r\n",
        "\r\n",
        "plt.figure(figsize=(10,20))\r\n",
        "sns.lineplot(x = data_ny.index, y = data_ny['new_cases'], err_style=None)\r\n",
        "plt.xticks(rotation = 90);"
      ],
      "execution_count": null,
      "outputs": [
        {
          "output_type": "display_data",
          "data": {
            "image/png": "[encoded data removed]",
            "text/plain": [
              "<Figure size 720x1440 with 1 Axes>"
            ]
          },
          "metadata": {
            "tags": []
          }
        }
      ]
    },
    {
      "cell_type": "code",
      "metadata": {
        "colab": {
          "base_uri": "https://localhost:8080/",
          "height": 1000
        },
        "id": "TKxrBi3qetDU",
        "outputId": "4e24a4a2-b246-4384-d047-88264bb5fed8"
      },
      "source": [
        "#Plotting a linplot to show the amount of new deaths each day in New York City within the past 30 days.\r\n",
        "\r\n",
        "plt.figure(figsize=(10,20))\r\n",
        "sns.lineplot(x = data_ny.index, y = data_ny['new_deaths'], err_style=None)\r\n",
        "plt.xticks(rotation = 90);"
      ],
      "execution_count": null,
      "outputs": [
        {
          "output_type": "display_data",
          "data": {
            "image/png": "[encoded data removed]",
            "text/plain": [
              "<Figure size 720x1440 with 1 Axes>"
            ]
          },
          "metadata": {
            "tags": []
          }
        }
      ]
    },
    {
      "cell_type": "markdown",
      "metadata": {
        "id": "RO1v6vHhKJl5"
      },
      "source": [
        "Task 5: Comparing Covid 19 data with different states"
      ]
    },
    {
      "cell_type": "code",
      "metadata": {
        "id": "GQhrgr04ROZ4"
      },
      "source": [
        "#Creating my list of states that I want to look at.\n",
        "\n",
        "states = ['New York', 'California', 'Texas', 'Florida', 'Chicago']"
      ],
      "execution_count": null,
      "outputs": []
    },
    {
      "cell_type": "code",
      "metadata": {
        "id": "BlW3_0pHRY2m"
      },
      "source": [
        "#Filtering the data for these states.\n",
        "\n",
        "bool_filter = (data['state'] == 'New York') | (data['state'] == 'California') | (data['state'] == 'Texas') | (data['state'] == 'Florida') | (data['state'] == 'Chicago')\n",
        "data = data[bool_filter]"
      ],
      "execution_count": null,
      "outputs": []
    },
    {
      "cell_type": "code",
      "metadata": {
        "id": "Uss0nTG8SGH8",
        "colab": {
          "base_uri": "https://localhost:8080/",
          "height": 1000
        },
        "outputId": "e6642c02-1027-4522-d3a4-1ee20eceaf8b"
      },
      "source": [
        "#Creating a lineplot to visualize the comparison of the amount of deaths within each of these states.\r\n",
        "\r\n",
        "plt.figure(figsize=(10,20))\r\n",
        "sns.lineplot(x = data.index, y=data['deaths'], hue = data['state'], err_style=None)\r\n",
        "plt.xticks(rotation = 90);"
      ],
      "execution_count": null,
      "outputs": [
        {
          "output_type": "display_data",
          "data": {
            "image/png": "[encoded data removed]",
            "text/plain": [
              "<Figure size 720x1440 with 1 Axes>"
            ]
          },
          "metadata": {
            "tags": []
          }
        }
      ]
    },
    {
      "cell_type": "code",
      "metadata": {
        "colab": {
          "base_uri": "https://localhost:8080/",
          "height": 1000
        },
        "id": "hLD3IKgUktoo",
        "outputId": "b75334a8-cb9f-4a4c-f09e-f26ddde7aa59"
      },
      "source": [
        "#Creating a lineplot to visualize the comparison of the amount of cases within each of these states.\n",
        "\n",
        "plt.figure(figsize=(10,20))\n",
        "sns.lineplot(x = data.index, y=data['cases'], hue = data['state'], err_style=None)\n",
        "plt.xticks(rotation = 90);"
      ],
      "execution_count": null,
      "outputs": [
        {
          "output_type": "display_data",
          "data": {
            "image/png": "[encoded data removed]",
            "text/plain": [
              "<Figure size 720x1440 with 1 Axes>"
            ]
          },
          "metadata": {
            "tags": []
          }
        }
      ]
    },
    {
      "cell_type": "markdown",
      "metadata": {
        "id": "OIHUu2lhKPYK"
      },
      "source": [
        "Task 6: Conclusion\r\n"
      ]
    },
    {
      "cell_type": "markdown",
      "metadata": {
        "id": "F8LAQNgqAWcg"
      },
      "source": [
        "Through analyzing this COVID-19 dataset, something that I can conclude is that by filtering out the states by it's county was extremly helpful in narrowing down our analysis especially considering how large this dataset is.\n",
        "Furthermore, when analyzing specifically New York City's COVID-19 data, it was alarming and rather eyeopening to visualize the impact that COVID-19 had in NYC, especially in regards to the amount of 'deaths' caused by this virus. "
      ]
    }
  ]
}